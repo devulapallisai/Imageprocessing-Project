{
 "cells": [
  {
   "cell_type": "code",
   "execution_count": 1,
   "id": "2638a4b5",
   "metadata": {},
   "outputs": [],
   "source": [
    "import cv2\n",
    "import os\n",
    "import numpy as np\n",
    "import time\n",
    "import matplotlib.pyplot as plt"
   ]
  },
  {
   "cell_type": "code",
   "execution_count": 2,
   "id": "3c291162",
   "metadata": {},
   "outputs": [],
   "source": [
    "def gabor_filters(ksize=5, sigma=5, theta=10, lambd=1, gamma=1, scale_start=0.5, scale_end=1.5, step=0.2):\n",
    "    ''' This function will precompute scaled and rotated versions of Gabor filters\n",
    "\n",
    "    INPUT PARAMETERS :\n",
    "\n",
    "\n",
    "    ksize      = Gabor filter square window size\n",
    "\n",
    "    sigma      = standard deviation for the Gabor filter\n",
    "\n",
    "    theta      = number of angles that are into consideration\n",
    "\n",
    "    lambd      = wavelength of filter (can be attributed to scale change)\n",
    "\n",
    "    gamma      = gamma correction factor\n",
    "\n",
    "    scale_start= varying scale of Gabor filter starting  value\n",
    "\n",
    "    scale_end  = varying scale of Gabor filter end value\n",
    "\n",
    "    step       = step size of the varying scale of the above Gabor filters\n",
    "\n",
    "    RETURNS :\n",
    "\n",
    "    filters    = 2D matrix with generated Gabor filters where each row represents filters different rotation for\n",
    "                 a given scale similar to SIFT(type = 2D array of 2D array)\n",
    "    '''\n",
    "    # Define the Gabor filter bank\n",
    "    filters = []\n",
    "\n",
    "    # each angle given there are theta number of angles into consideration also can think as angular resolution\n",
    "    angle = (2*np.pi)/theta\n",
    "\n",
    "    for scale in np.arange(scale_start, scale_end, step):\n",
    "        # scales changing from start to end with each step of size step\n",
    "        scale_filters = []\n",
    "        for j in range(theta):\n",
    "            gabor_filter = cv2.getGaborKernel(\n",
    "                (ksize, ksize), np.sqrt(scale)*sigma, j*angle, scale*lambd, gamma, 0, ktype=cv2.CV_32F)\n",
    "            scale_filters.append(gabor_filter/np.sum(gabor_filter))\n",
    "\n",
    "        # rotation invariant scaled version of Gabor filter\n",
    "        averaged_value = np.sum(scale_filters, axis=0)\n",
    "        filters.append(averaged_value)\n",
    "\n",
    "    return filters"
   ]
  },
  {
   "cell_type": "code",
   "execution_count": 3,
   "id": "814f6d1e",
   "metadata": {},
   "outputs": [],
   "source": [
    "def detection(block_features_matrix, Nf=3, Nd=16, D=3):\n",
    "    ''' This function will return whether image is an example of copy move forgery or not\n",
    "\n",
    "    INPUT PARAMETERS:\n",
    "\n",
    "    block_features_matrix = feature matrix A\n",
    "\n",
    "    D = Euclidean Similarity Threshold\n",
    "\n",
    "    Nf = Neighbourhood threshold\n",
    "\n",
    "    Nd = Eucleadian distance Threshold\n",
    "\n",
    "    RETURNS:\n",
    "\n",
    "    True or False\n",
    "\n",
    "    '''\n",
    "    print(block_features_matrix[0][0])\n",
    "    # Create a matrix of pairwise distances between all feature vectors\n",
    "    dist_matrix = np.linalg.norm(block_features_matrix[:,np.newaxis][\"f_vector\"] - \n",
    "                                 block_features_matrix[\"f_vector\"], axis=2)\n",
    "    \n",
    "    # Create a matrix of pairwise Euclidean distances between all block positions\n",
    "    pos_matrix = np.linalg.norm(block_features_matrix[:,np.newaxis][[\"x\", \"y\"]] - \n",
    "                                block_features_matrix[[\"x\", \"y\"]], axis=2)\n",
    "    \n",
    "    # Find all blocks with a matching feature vector within the neighborhood threshold Nf and Euclidean similarity \n",
    "    # threshold D\n",
    "    matching_blocks = (dist_matrix < D) & (np.abs(np.arange(len(block_features_matrix)) - \n",
    "                                                  np.arange(len(block_features_matrix))[:,np.newaxis]) < Nf)\n",
    "    \n",
    "    # Exclude matching blocks that are too close together based on the Euclidean distance threshold Nd\n",
    "    matching_blocks &= (pos_matrix > Nd)\n",
    "    \n",
    "    # Check if any matching blocks remain\n",
    "    if np.any(matching_blocks):\n",
    "        return True\n",
    "    else:\n",
    "        return False\n"
   ]
  },
  {
   "cell_type": "code",
   "execution_count": 4,
   "id": "fa5ac74f",
   "metadata": {},
   "outputs": [],
   "source": [
    "def generate_blocks(I, block_size=8):\n",
    "    ''' This function will return sub blocks of image I\n",
    "\n",
    "    INPUT PARAMETERS:\n",
    "\n",
    "    I = grayscale image\n",
    "\n",
    "    block_size = Image is divided into square blocks with each size of this variable for further processing\n",
    "                 (type=integer)\n",
    "\n",
    "    RETURNS:\n",
    "\n",
    "    square overlapping blocks of size(block_size, block_size) from image I (2D array)\n",
    "\n",
    "    '''\n",
    "    blocks = []\n",
    "    for i in range(0, len(I)-block_size+1):\n",
    "        t = []\n",
    "        for j in range(0, len(I[0])-block_size+1):\n",
    "            block = I[i:i+block_size, j:j+block_size]\n",
    "            t.append(block)  # (M-B+1)*(M-B+1) number of blocks\n",
    "        blocks.append(t)\n",
    "    return blocks\n"
   ]
  },
  {
   "cell_type": "code",
   "execution_count": 5,
   "id": "9cafd800",
   "metadata": {},
   "outputs": [],
   "source": [
    "\n",
    "def feature_matrix_generation(blocks, filters):\n",
    "    ''' This function will return feature matrix of whole image\n",
    "\n",
    "    INPUT PARAMETERS:\n",
    "\n",
    "    blocks = generated sub-blocks of image I\n",
    "\n",
    "    filters = set of Gabor filters with rotated and scaled versions\n",
    "\n",
    "    RETURNS:\n",
    "\n",
    "    Square a row sorted matrix each representing feature vector of sub-block which has mean of all possible\n",
    "    rotations for a given scale\n",
    "\n",
    "    '''\n",
    "    block_features = np.zeros(\n",
    "        (len(blocks), len(blocks[0])), dtype=[('f_vector', np.ndarray, len(filters)),\n",
    "                                              ('x', int), ('y', int)])\n",
    "    for i in range(len(blocks)):\n",
    "        for j in range(len(blocks[i])):\n",
    "            filtered = np.array(\n",
    "                [cv2.filter2D(blocks[i][j], cv2.CV_8UC3, filter) for filter in filters])\n",
    "            feature_vector = np.mean(filtered, axis=(1, 2))\n",
    "            # feature_vector has rotation invariant for given scale\n",
    "            # storing feature vector of each block along with its top left corner coordinates\n",
    "            block_features[i][j][\"f_vector\"] = feature_vector\n",
    "            block_features[i][j][\"x\"] = i\n",
    "            block_features[i][j][\"y\"] = j\n",
    "            # at each i,j position of Image I compute feature vector\n",
    "    # lexographically sorting the above feature matrix\n",
    "    return block_features"
   ]
  },
  {
   "cell_type": "code",
   "execution_count": 6,
   "id": "c69ea0e6",
   "metadata": {},
   "outputs": [],
   "source": [
    "def detect_copy_move(image_path, filters, block_size=8, D=3, Nf=3, Nd=16):\n",
    "    ''' This function will return whether image is an example of copy move forgery or not\n",
    "\n",
    "    INPUT PARAMETERS:\n",
    "\n",
    "    image_path = path for the image in the local directory that you are working so that\n",
    "                 opencv can load the image(type: string)\n",
    "\n",
    "    block_size = Image is divided into square blocks with each size of this variable for further processing\n",
    "                 (type=integer)\n",
    "\n",
    "    filters = Generated Gabor filters with different scales and rotation similar to SIFT\n",
    "                 (type=array of 2D array where 2D array is of type complex)\n",
    "\n",
    "    D = Euclidean Similarity Threshold\n",
    "\n",
    "    Nf = Neighbourhood threshold\n",
    "\n",
    "    Nd = Eucleadian distance Threshold\n",
    "\n",
    "    RETURNS:\n",
    "\n",
    "    True or False depending whether image is original or forged\n",
    "\n",
    "    '''\n",
    "    # Load the image\n",
    "    img = cv2.imread(image_path)\n",
    "\n",
    "    # Convert to grayscale\n",
    "    gray = cv2.cvtColor(img, cv2.COLOR_BGR2GRAY)\n",
    "\n",
    "    # Divide the image into blocks\n",
    "    blocks = generate_blocks(gray, block_size)\n",
    "    # Apply the Gabor filters to each block and getting feature_matrix\n",
    "    block_features_matrix = feature_matrix_generation(blocks, filters)\n",
    "\n",
    "    return detection(block_features_matrix)\n"
   ]
  },
  {
   "cell_type": "code",
   "execution_count": 7,
   "id": "fb8919ba",
   "metadata": {},
   "outputs": [],
   "source": [
    "PATH = \"../datasets/COFOMOD_v2/\"\n",
    "file_formats = [\".png\", \".jpg\", \".jpeg\"]  # image file formats\n",
    "paths = []\n",
    "images = []\n",
    "# path of the input folder of dataset which has all images\n",
    "# --------------------------GABOR FILTERS GENERATION ---------------------------------\n",
    "filter_size = 5\n",
    "filter_standard_dev = 10\n",
    "no_filter_theta = 12  # theta angluar resolution = 30degree\n",
    "filters = gabor_filters(filter_size, filter_standard_dev, no_filter_theta)\n",
    "# ------------------------------------------------------------------------------------\n",
    "\n",
    "for x in os.listdir(PATH):\n",
    "    istrue = np.array([x.endswith(file_format)\n",
    "                      for file_format in file_formats])\n",
    "    if np.any(istrue):\n",
    "        # detecting png,jpg and jpeg files which are most common image files (in dataset it has only these filetypes)\n",
    "        paths.append(PATH+x)\n",
    "        images.append(x)"
   ]
  },
  {
   "cell_type": "code",
   "execution_count": 8,
   "id": "99767988",
   "metadata": {},
   "outputs": [],
   "source": [
    "false_positive = 0\n",
    "false_negative = 0\n",
    "true_negative = 0\n",
    "true_positive = 0\n",
    "\n",
    "x = 0\n",
    "error = 0\n",
    "L = 10  # number of images from dataset to test upon\n",
    "index = 0\n",
    "t0 = time.time()\n",
    "t1 = t0"
   ]
  },
  {
   "cell_type": "code",
   "execution_count": null,
   "id": "6277b878",
   "metadata": {},
   "outputs": [],
   "source": [
    "for path in paths:\n",
    "    t2 = t1\n",
    "    if (x == L):\n",
    "        '''For L images in this folder'''\n",
    "        break\n",
    "    x += 1\n",
    "    # detection using pre computed Gabor filters\n",
    "    stre = images[index].split(\"_\")\n",
    "    if (len(stre[1]) != 1):\n",
    "        # we are skipping bit mask images as they are not images that we have to consider\n",
    "        x = x-1\n",
    "    else:\n",
    "        detection = detect_copy_move(path, filters)\n",
    "        real_detected = 1 if stre[1] == \"F\" else 0\n",
    "\n",
    "        t1 = time.time()\n",
    "\n",
    "        print(f\"Time elapsed for a image {t1-t2}\")\n",
    "\n",
    "    index = index+1"
   ]
  },
  {
   "cell_type": "code",
   "execution_count": null,
   "id": "fc1fe46c",
   "metadata": {},
   "outputs": [],
   "source": [
    "# accuracy = error/L\n",
    "# precision = true_positive/(true_positive+false_positive)\n",
    "# recall = true_positive/(true_positive+false_negative)\n",
    "# f1_score = 2/((1/precision)+(1/recall))\n",
    "\n",
    "# print(f\"Accuracy is {accuracy}\")\n",
    "# print(f\"Precision is {precision}\")\n",
    "# print(f\"Recall is {recall}\")\n",
    "# print(f\"F1 score is {f1_score}\")\n",
    "# print(f\"Time took is {t1-t0}\")"
   ]
  },
  {
   "cell_type": "code",
   "execution_count": null,
   "id": "8af4954d",
   "metadata": {},
   "outputs": [],
   "source": [
    "true_negative"
   ]
  },
  {
   "cell_type": "code",
   "execution_count": null,
   "id": "b6b2b0de",
   "metadata": {},
   "outputs": [],
   "source": [
    "true_positive"
   ]
  },
  {
   "cell_type": "code",
   "execution_count": null,
   "id": "65384745",
   "metadata": {},
   "outputs": [],
   "source": [
    "false_negative"
   ]
  },
  {
   "cell_type": "code",
   "execution_count": null,
   "id": "aee753c5",
   "metadata": {},
   "outputs": [],
   "source": [
    "fig,ax=plt.subplots(ncols=len(filters))\n",
    "for i,filter in enumerate(filters):\n",
    "    ax[i].imshow(filter,cmap='gray')"
   ]
  },
  {
   "cell_type": "code",
   "execution_count": null,
   "id": "416665ae",
   "metadata": {},
   "outputs": [],
   "source": [
    "fig,ax=plt.subplots(ncols=len(filters))\n",
    "for i,filter in enumerate(filters):\n",
    "    ax[i].imshow(filter,cmap='gray')"
   ]
  },
  {
   "cell_type": "code",
   "execution_count": null,
   "id": "9b13b653",
   "metadata": {},
   "outputs": [],
   "source": []
  },
  {
   "cell_type": "code",
   "execution_count": null,
   "id": "63453786",
   "metadata": {},
   "outputs": [],
   "source": [
    "gray"
   ]
  },
  {
   "cell_type": "code",
   "execution_count": null,
   "id": "784967ee",
   "metadata": {},
   "outputs": [],
   "source": [
    "img = cv2.imread(paths[1])\n",
    "\n",
    "    # Convert to grayscale\n",
    "gray = cv2.cvtColor(img, cv2.COLOR_RGB2GRAY)\n",
    "plt.imshow(gray,cmap='gray')\n",
    "    # Divide the image into blocks\n",
    "blocks = generate_blocks(gray, 8)"
   ]
  },
  {
   "cell_type": "code",
   "execution_count": null,
   "id": "3c066c43",
   "metadata": {},
   "outputs": [],
   "source": [
    "block_features_matrix = feature_matrix_generation(blocks, filters)"
   ]
  },
  {
   "cell_type": "code",
   "execution_count": null,
   "id": "c33aeed0",
   "metadata": {},
   "outputs": [],
   "source": [
    "block_features_matrix[200][200]"
   ]
  },
  {
   "cell_type": "code",
   "execution_count": null,
   "id": "2e8c930f",
   "metadata": {},
   "outputs": [],
   "source": [
    "print(blocks[200][200])"
   ]
  },
  {
   "cell_type": "code",
   "execution_count": null,
   "id": "9b5ef36f",
   "metadata": {},
   "outputs": [],
   "source": [
    "filtered = np.array([cv2.filter2D(blocks[250][200], cv2.CV_8UC3, filter) for filter in filters])"
   ]
  },
  {
   "cell_type": "code",
   "execution_count": null,
   "id": "192adab1",
   "metadata": {},
   "outputs": [],
   "source": [
    "filtered"
   ]
  },
  {
   "cell_type": "code",
   "execution_count": null,
   "id": "46969df4",
   "metadata": {},
   "outputs": [],
   "source": [
    "filters[4]"
   ]
  },
  {
   "cell_type": "code",
   "execution_count": null,
   "id": "fa38df6d",
   "metadata": {},
   "outputs": [],
   "source": [
    "filters[0]"
   ]
  },
  {
   "cell_type": "code",
   "execution_count": null,
   "id": "fc9adb1c",
   "metadata": {},
   "outputs": [],
   "source": []
  }
 ],
 "metadata": {
  "kernelspec": {
   "display_name": "Python 3 (ipykernel)",
   "language": "python",
   "name": "python3"
  },
  "language_info": {
   "codemirror_mode": {
    "name": "ipython",
    "version": 3
   },
   "file_extension": ".py",
   "mimetype": "text/x-python",
   "name": "python",
   "nbconvert_exporter": "python",
   "pygments_lexer": "ipython3",
   "version": "3.10.2"
  }
 },
 "nbformat": 4,
 "nbformat_minor": 5
}
