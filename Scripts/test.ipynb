{
 "cells": [
  {
   "cell_type": "code",
   "execution_count": 25,
   "metadata": {},
   "outputs": [],
   "source": [
    "import cv2\n",
    "import os\n",
    "import numpy as np\n",
    "import time\n",
    "import scipy\n",
    "import matplotlib.pyplot as plt"
   ]
  },
  {
   "cell_type": "code",
   "execution_count": 2,
   "metadata": {},
   "outputs": [],
   "source": [
    "def get_gabor_filters(size, sigma_min, sigma_max, K, n_theta, n_scale):\n",
    "    ''' This function will precompute scaled and rotated versions of Gabor filters\n",
    "\n",
    "    INPUT PARAMETERS :\n",
    "\n",
    "\n",
    "    size      = Gabor filter square window size\n",
    "\n",
    "    sigma     = sigma_min -> minimum standard deviation and sigma_max -> maximum standard deviation of filter\n",
    "\n",
    "    n_theta   = number of angles that are into consideration\n",
    "\n",
    "    K         = parameter to decide Uh and Ul as said in reference paper\n",
    "\n",
    "    n_scale   = number of scales\n",
    "\n",
    "    RETURNS :\n",
    "\n",
    "    filters    = 2D matrix with generated Gabor filters where each row represents filters different rotation for\n",
    "                 a given scale similar to SIFT(type = 2D array of 2D array)\n",
    "    '''\n",
    "    # Define the ranges of frequencies and orientations\n",
    "    uh = K / (2 * np.pi * sigma_max)\n",
    "    ul = K / (2 * np.pi * sigma_min)\n",
    "    freqs = np.geomspace(ul, uh, n_scale)\n",
    "    thetas = np.linspace(0, np.pi, n_theta, endpoint=False)\n",
    "\n",
    "    # Generate the filters\n",
    "    filters = []\n",
    "    for freq in freqs:\n",
    "        scale_filters = []\n",
    "        for theta in thetas:\n",
    "            # Generate the Gabor filter for the given frequency and orientation\n",
    "            kernel = cv2.getGaborKernel(\n",
    "                size,          # kernel size\n",
    "                sigma_min,     # sigma (standard deviation)\n",
    "                theta,         # orientation (radians)\n",
    "                1.0/freq,      # wavelength\n",
    "                1.0,           # aspect ratio\n",
    "                 0,            # phase offset\n",
    "                cv2.CV_64F     # kernel datatype\n",
    "            )\n",
    "            scale_filters.append(kernel)\n",
    "        rot_invariant = np.sum(scale_filters, axis=0)\n",
    "        filters.append(rot_invariant)\n",
    "\n",
    "    return filters"
   ]
  },
  {
   "cell_type": "code",
   "execution_count": 3,
   "metadata": {},
   "outputs": [],
   "source": [
    "def generate_blocks(I, block_size=8):\n",
    "    ''' This function will return sub blocks of image I\n",
    "\n",
    "    INPUT PARAMETERS:\n",
    "\n",
    "    I = grayscale image\n",
    "\n",
    "    block_size = Image is divided into square blocks with each size of this variable for further processing\n",
    "                 (type=integer)\n",
    "\n",
    "    RETURNS:\n",
    "\n",
    "    square overlapping blocks of size(block_size, block_size) from image I (2D array)\n",
    "\n",
    "    '''\n",
    "    blocks = []\n",
    "    for i in range(0, len(I)-block_size+1):\n",
    "        t = []\n",
    "        for j in range(0, len(I[0])-block_size+1):\n",
    "            block = I[i:i+block_size, j:j+block_size]\n",
    "            t.append(block)  # (M-B+1)*(M-B+1) number of blocks\n",
    "        blocks.append(t)\n",
    "    return blocks"
   ]
  },
  {
   "cell_type": "code",
   "execution_count": 39,
   "metadata": {},
   "outputs": [],
   "source": [
    "def feature_matrix_generation(blocks, filters):\n",
    "    ''' This function will return feature matrix of whole image\n",
    "\n",
    "    INPUT PARAMETERS:\n",
    "\n",
    "    blocks = generated sub-blocks of image I\n",
    "\n",
    "    filters = set of Gabor filters with rotated and scaled versions\n",
    "\n",
    "    RETURNS:\n",
    "\n",
    "    Square a row sorted matrix each representing feature vector of sub-block which has mean of all possible\n",
    "    rotations for a given scale\n",
    "\n",
    "    '''\n",
    "    block_features = np.zeros(\n",
    "        len(blocks)*len(blocks[0]), dtype=[('f_vector', np.ndarray, len(filters)),\n",
    "                                           ('x', int), ('y', int)])\n",
    "\n",
    "    filtered = np.stack([np.stack([np.array(\n",
    "        [cv2.filter2D(block, cv2.CV_8UC3, filter) for filter in filters])\n",
    "                                  for block in row], axis=1) for row in blocks], axis=0)\n",
    "\n",
    "    n_blocks_x, n_blocks_y, n_filters, block_height, block_width = filtered.shape\n",
    "\n",
    "    feature_vector = np.mean(filtered.reshape(n_blocks_x, n_blocks_y, n_filters, -1), axis=-1)\n",
    "\n",
    "    # feature_vector has rotation invariant for given scale\n",
    "    # storing feature vector of each block along with its top left corner coordinates\n",
    "    block_features['f_vector'] = feature_vector.reshape(-1, len(filters))\n",
    "    block_features['x'], block_features['y'] = np.indices((len(blocks), len(blocks[0]))).reshape(2, -1)\n",
    "\n",
    "    # at each i,j position of Image I compute feature vector\n",
    "    block_features = np.sort(block_features, order='f_vector')\n",
    "\n",
    "    # lexographically sorting the above feature matrix\n",
    "    return block_features"
   ]
  },
  {
   "cell_type": "code",
   "execution_count": 5,
   "metadata": {},
   "outputs": [],
   "source": [
    "def detection(block_features_matrix, Nf=3, Nd=16, D=3):\n",
    "    ''' This function will return whether image is an example of copy move forgery or not\n",
    "\n",
    "    INPUT PARAMETERS:\n",
    "\n",
    "    block_features_matrix = feature matrix A\n",
    "\n",
    "    D = Euclidean Similarity Threshold\n",
    "\n",
    "    Nf = Neighbourhood threshold\n",
    "\n",
    "    Nd = Eucleadian distance Threshold\n",
    "\n",
    "    RETURNS:\n",
    "\n",
    "    0 or 1\n",
    "\n",
    "    '''\n",
    "    # Compare each block with all other blocks\n",
    "    i = 0\n",
    "    for block in block_features_matrix:\n",
    "        # this will have all boolean matches between vectors i and j for all j<Nf+i\n",
    "        k = np.minimum(i+Nf, len(block_features_matrix))\n",
    "        for j in range(i, k, 1):\n",
    "            # j-i < Nf\n",
    "            if (np.linalg.norm(block[\"f_vector\"]-block_features_matrix[j][\"f_vector\"]) < D):\n",
    "                d = np.array([block[\"x\"]-block_features_matrix[j][\"x\"],\n",
    "                              block[\"y\"]-block_features_matrix[j][\"y\"]])\n",
    "                if (np.linalg.norm(d) > Nd):\n",
    "                    return True\n",
    "                    # similarity found i.e possible copy move\n",
    "                else:\n",
    "                    pass\n",
    "                    # No similarity found i.e no copy move\n",
    "            else:\n",
    "                pass\n",
    "        i = i+1\n",
    "    return False\n",
    "\n",
    "\n",
    "def detect_copy_move(image_path, filters, block_size=8, D=3, Nf=3, Nd=16):\n",
    "    ''' This function will return whether image is an example of copy move forgery or not\n",
    "\n",
    "    INPUT PARAMETERS:\n",
    "\n",
    "    image_path = path for the image in the local directory that you are working so that\n",
    "                 opencv can load the image(type: string)\n",
    "\n",
    "    block_size = Image is divided into square blocks with each size of this variable for further processing\n",
    "                 (type=integer)\n",
    "\n",
    "    filters = Generated Gabor filters with different scales and rotation similar to SIFT\n",
    "                 (type=array of 2D array where 2D array is of type complex)\n",
    "\n",
    "    D = Euclidean Similarity Threshold\n",
    "\n",
    "    Nf = Neighbourhood threshold\n",
    "\n",
    "    Nd = Eucleadian distance Threshold\n",
    "\n",
    "    RETURNS:\n",
    "\n",
    "    True or False depending whether image is original or forged\n",
    "\n",
    "    '''\n",
    "    # Load the image\n",
    "    img = cv2.imread(image_path)\n",
    "\n",
    "    # Convert to grayscale\n",
    "    gray = cv2.cvtColor(img, cv2.COLOR_BGR2GRAY)\n",
    "\n",
    "    # Divide the image into blocks\n",
    "    blocks = generate_blocks(gray, block_size)\n",
    "\n",
    "    # Apply the Gabor filters to each block and getting feature_matrix\n",
    "    block_features_matrix = feature_matrix_generation(blocks, filters)\n",
    "\n",
    "    return detection(block_features_matrix, Nf, Nd, D)"
   ]
  },
  {
   "cell_type": "code",
   "execution_count": 5,
   "metadata": {},
   "outputs": [],
   "source": [
    "paths = []\n",
    "images = []\n",
    "# path of the input folder of dataset which has all images\n",
    "\n",
    "PATH = \"../datasets/COFOMOD_v2/\"\n",
    "file_formats = [\".png\", \".jpg\", \".jpeg\"]  # image file formats"
   ]
  },
  {
   "cell_type": "code",
   "execution_count": 6,
   "metadata": {},
   "outputs": [],
   "source": [
    "for x in os.listdir(PATH):\n",
    "    istrue = np.array([x.endswith(file_format)\n",
    "                       for file_format in file_formats])\n",
    "    if np.any(istrue):\n",
    "        # detecting png,jpg and jpeg files which are most common image files (in dataset it has only these filetypes)\n",
    "        paths.append(PATH+x)\n",
    "        images.append(x)\n",
    "\n",
    "# computing statistics like accuracy, precision, recall, f1_score to show robustness of our approach to solve the problem\n",
    "\n",
    "false_positive = 0\n",
    "false_negative = 0\n",
    "true_negative = 0\n",
    "true_positive = 0\n",
    "\n",
    "x = 0\n",
    "error = 0\n",
    "L = 40  # number of images from dataset to test upon\n",
    "index = 0\n",
    "t0 = time.time()\n",
    "t1 = t0"
   ]
  },
  {
   "cell_type": "code",
   "execution_count": 9,
   "metadata": {},
   "outputs": [],
   "source": [
    "# --------------------------GABOR FILTERS GENERATION ---------------------------------\n",
    "filter_size = 32\n",
    "no_filter_theta = 12  # theta angluar resolution = 30degree\n",
    "filters = get_gabor_filters((filter_size,filter_size),sigma_min=5, sigma_max=10, K=0.7, n_theta=no_filter_theta, n_scale=5)\n",
    "# ------------------------------------------------------------------------------------"
   ]
  },
  {
   "cell_type": "code",
   "execution_count": 9,
   "metadata": {},
   "outputs": [
    {
     "ename": "error",
     "evalue": "OpenCV(4.7.0) D:\\a\\opencv-python\\opencv-python\\opencv\\modules\\imgproc\\src\\color.cpp:182: error: (-215:Assertion failed) !_src.empty() in function 'cv::cvtColor'\n",
     "output_type": "error",
     "traceback": [
      "\u001b[1;31m---------------------------------------------------------------------------\u001b[0m",
      "\u001b[1;31merror\u001b[0m                                     Traceback (most recent call last)",
      "Cell \u001b[1;32mIn[9], line 13\u001b[0m\n\u001b[0;32m     11\u001b[0m     x \u001b[38;5;241m=\u001b[39m x\u001b[38;5;241m-\u001b[39m\u001b[38;5;241m1\u001b[39m\n\u001b[0;32m     12\u001b[0m \u001b[38;5;28;01melse\u001b[39;00m:\n\u001b[1;32m---> 13\u001b[0m     detected \u001b[38;5;241m=\u001b[39m \u001b[43mdetect_copy_move\u001b[49m\u001b[43m(\u001b[49m\u001b[43mpath\u001b[49m\u001b[43m,\u001b[49m\u001b[43m \u001b[49m\u001b[43mfilters\u001b[49m\u001b[43m)\u001b[49m\n\u001b[0;32m     14\u001b[0m     real_detected \u001b[38;5;241m=\u001b[39m \u001b[38;5;241m1\u001b[39m \u001b[38;5;28;01mif\u001b[39;00m stre[\u001b[38;5;241m1\u001b[39m] \u001b[38;5;241m==\u001b[39m \u001b[38;5;124m\"\u001b[39m\u001b[38;5;124mF\u001b[39m\u001b[38;5;124m\"\u001b[39m \u001b[38;5;28;01melse\u001b[39;00m \u001b[38;5;241m0\u001b[39m\n\u001b[0;32m     16\u001b[0m     \u001b[38;5;28;01mif\u001b[39;00m (real_detected \u001b[38;5;241m==\u001b[39m \u001b[38;5;241m0\u001b[39m):\n",
      "Cell \u001b[1;32mIn[5], line 70\u001b[0m, in \u001b[0;36mdetect_copy_move\u001b[1;34m(image_path, filters, block_size, D, Nf, Nd)\u001b[0m\n\u001b[0;32m     67\u001b[0m img \u001b[38;5;241m=\u001b[39m cv2\u001b[38;5;241m.\u001b[39mimread(image_path)\n\u001b[0;32m     69\u001b[0m \u001b[38;5;66;03m# Convert to grayscale\u001b[39;00m\n\u001b[1;32m---> 70\u001b[0m gray \u001b[38;5;241m=\u001b[39m \u001b[43mcv2\u001b[49m\u001b[38;5;241;43m.\u001b[39;49m\u001b[43mcvtColor\u001b[49m\u001b[43m(\u001b[49m\u001b[43mimg\u001b[49m\u001b[43m,\u001b[49m\u001b[43m \u001b[49m\u001b[43mcv2\u001b[49m\u001b[38;5;241;43m.\u001b[39;49m\u001b[43mCOLOR_BGR2GRAY\u001b[49m\u001b[43m)\u001b[49m\n\u001b[0;32m     72\u001b[0m \u001b[38;5;66;03m# Divide the image into blocks\u001b[39;00m\n\u001b[0;32m     73\u001b[0m blocks \u001b[38;5;241m=\u001b[39m generate_blocks(gray, block_size)\n",
      "\u001b[1;31merror\u001b[0m: OpenCV(4.7.0) D:\\a\\opencv-python\\opencv-python\\opencv\\modules\\imgproc\\src\\color.cpp:182: error: (-215:Assertion failed) !_src.empty() in function 'cv::cvtColor'\n"
     ]
    }
   ],
   "source": [
    "for path in paths:\n",
    "    t2 = t1\n",
    "    if (x == L):\n",
    "        '''For L images in this folder'''\n",
    "        break\n",
    "    x += 1\n",
    "    # detection using pre computed Gabor filters\n",
    "    stre = images[index].split(\"_\")\n",
    "    if (len(stre[1]) != 1):\n",
    "        # we are skipping bit mask images as they are not images that we have to consider\n",
    "        x = x-1\n",
    "    else:\n",
    "        detected = detect_copy_move(path, filters)\n",
    "        real_detected = 1 if stre[1] == \"F\" else 0\n",
    "\n",
    "        if (real_detected == 0):\n",
    "            if (detected == 0):\n",
    "                true_negative += 1\n",
    "            else:\n",
    "                false_positive += 1\n",
    "                error += 1\n",
    "\n",
    "        else:\n",
    "            if (detected == 0):\n",
    "                false_negative += 1\n",
    "                error += 1\n",
    "            else:\n",
    "                true_positive += 1\n",
    "\n",
    "        t1 = time.time()\n",
    "\n",
    "        print(f\"Time elapsed for path : {path} image {t1-t2}\")\n",
    "\n",
    "    index = index+1"
   ]
  },
  {
   "cell_type": "code",
   "execution_count": null,
   "metadata": {},
   "outputs": [],
   "source": [
    "accuracy = 1 - (error/L)\n",
    "precision = true_positive/(true_positive+false_positive)\n",
    "recall = true_positive/(true_positive+false_negative)\n",
    "f1_score = 2/((1/precision)+(1/recall))\n",
    "\n",
    "print(f\"Accuracy is {accuracy}\")\n",
    "print(f\"Precision is {precision}\")\n",
    "print(f\"Recall is {recall}\")\n",
    "print(f\"F1 score is {f1_score}\")\n",
    "print(f\"Time took is {t1-t0}\")"
   ]
  },
  {
   "cell_type": "code",
   "execution_count": null,
   "metadata": {},
   "outputs": [],
   "source": [
    "paths[1]"
   ]
  },
  {
   "cell_type": "code",
   "execution_count": 7,
   "metadata": {},
   "outputs": [],
   "source": [
    "img = cv2.imread(paths[1])\n",
    "\n",
    "    # Convert to grayscale\n",
    "gray = cv2.cvtColor(img, cv2.COLOR_BGR2GRAY)"
   ]
  },
  {
   "cell_type": "code",
   "execution_count": 8,
   "metadata": {},
   "outputs": [
    {
     "name": "stdout",
     "output_type": "stream",
     "text": [
      "0.11763596534729004\n"
     ]
    }
   ],
   "source": [
    "t0 = time.time()\n",
    "b=generate_blocks(gray)\n",
    "t1 = time.time()\n",
    "print(t1-t0)"
   ]
  },
  {
   "cell_type": "code",
   "execution_count": 40,
   "metadata": {},
   "outputs": [
    {
     "name": "stdout",
     "output_type": "stream",
     "text": [
      "59.82263207435608\n"
     ]
    }
   ],
   "source": [
    "t0 = time.time()\n",
    "x=feature_matrix_generation(b,filters)\n",
    "t1 = time.time()\n",
    "print(t1-t0)"
   ]
  },
  {
   "cell_type": "code",
   "execution_count": 13,
   "metadata": {},
   "outputs": [
    {
     "data": {
      "text/plain": [
       "array([([255.0, 255.0, 255.0, 255.0, 255.0],  58, 503),\n",
       "       ([255.0, 255.0, 255.0, 255.0, 255.0],   4, 437),\n",
       "       ([255.0, 255.0, 255.0, 255.0, 255.0],  59, 406), ...,\n",
       "       ([255.0, 255.0, 255.0, 255.0, 255.0], 471,  14),\n",
       "       ([255.0, 255.0, 255.0, 255.0, 255.0], 265,   4),\n",
       "       ([255.0, 255.0, 255.0, 255.0, 255.0],  58, 500)],\n",
       "      dtype=[('f_vector', 'O', (5,)), ('x', '<i4'), ('y', '<i4')])"
      ]
     },
     "execution_count": 13,
     "metadata": {},
     "output_type": "execute_result"
    }
   ],
   "source": [
    "x"
   ]
  },
  {
   "cell_type": "code",
   "execution_count": 41,
   "metadata": {},
   "outputs": [
    {
     "data": {
      "text/plain": [
       "array([([255.0, 255.0, 255.0, 255.0, 255.0], 1, 393),\n",
       "       ([255.0, 255.0, 255.0, 255.0, 255.0], 1, 291),\n",
       "       ([255.0, 255.0, 255.0, 255.0, 255.0], 3, 388), ...,\n",
       "       ([255.0, 255.0, 255.0, 255.0, 255.0], 0, 101),\n",
       "       ([255.0, 255.0, 255.0, 255.0, 255.0], 1,  92),\n",
       "       ([255.0, 255.0, 255.0, 255.0, 255.0], 0, 287)],\n",
       "      dtype=[('f_vector', 'O', (5,)), ('x', '<i4'), ('y', '<i4')])"
      ]
     },
     "execution_count": 41,
     "metadata": {},
     "output_type": "execute_result"
    }
   ],
   "source": [
    "x"
   ]
  },
  {
   "cell_type": "code",
   "execution_count": null,
   "metadata": {},
   "outputs": [],
   "source": []
  }
 ],
 "metadata": {
  "kernelspec": {
   "display_name": "Python 3 (ipykernel)",
   "language": "python",
   "name": "python3"
  },
  "language_info": {
   "codemirror_mode": {
    "name": "ipython",
    "version": 3
   },
   "file_extension": ".py",
   "mimetype": "text/x-python",
   "name": "python",
   "nbconvert_exporter": "python",
   "pygments_lexer": "ipython3",
   "version": "3.10.2"
  }
 },
 "nbformat": 4,
 "nbformat_minor": 2
}
